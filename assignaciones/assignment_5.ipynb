{
 "cells": [
  {
   "cell_type": "markdown",
   "id": "6974964c",
   "metadata": {},
   "source": [
    "# Clasificación de Piso en el Dataset UJIIndoorLoc usando Redes Neuronales Artificiales (ANN)\n",
    "\n",
    "---\n",
    "\n",
    "## Introducción\n",
    "\n",
    "En este notebook se replica el flujo de análisis implementado previamente para la clasificación del **piso** en un entorno interior utilizando el dataset **UJIIndoorLoc**, pero en esta ocasión aplicando un modelo de **red neuronal artificial** con capas completamente conectadas (Fully Connected – FC).\n",
    "\n",
    "El conjunto de datos UJIIndoorLoc contiene mediciones de señales WiFi tomadas en diferentes ubicaciones dentro de un edificio, junto con información asociada como coordenadas, piso, usuario y timestamp. Nuestro objetivo sigue siendo predecir el **piso** en el que se encuentra un dispositivo, tratando el problema como una clasificación multiclase (planta baja, primer piso, segundo piso, etc.).\n",
    "\n",
    "## Objetivos\n",
    "\n",
    "- **Cargar y explorar** el conjunto de datos UJIIndoorLoc.\n",
    "- **Preparar** los datos seleccionando las características relevantes y la variable objetivo (`FLOOR`).\n",
    "- **Dividir** el dataset en entrenamiento y validación (80/20).\n",
    "- **Construir** una red neuronal totalmente conectada (fully connected ANN) para clasificar el piso.\n",
    "- **Diseñar y ajustar** la arquitectura de la red (número de capas, unidades por capa, funciones de activación, etc.).\n",
    "- **Evaluar el desempeño** del modelo en el conjunto de validación mediante métricas como *accuracy*, *precision*, *recall*, y *F1-score*.\n",
    "- **Comparar los resultados** obtenidos con los modelos clásicos de clasificación entrenados anteriormente.\n",
    "\n",
    "Este ejercicio permite evaluar la capacidad de generalización de una red neuronal densa sobre datos del mundo real, comparando su desempeño con algoritmos tradicionales y practicando buenas prácticas en diseño, entrenamiento y evaluación de modelos neuronales.\n",
    "\n",
    "---\n"
   ]
  },
  {
   "cell_type": "markdown",
   "id": "253ad8d2",
   "metadata": {
    "vscode": {
     "languageId": "plaintext"
    }
   },
   "source": [
    "## Descripción del Dataset\n",
    "\n",
    "El dataset utilizado en este análisis es el **UJIIndoorLoc Dataset**, ampliamente utilizado para tareas de localización en interiores a partir de señales WiFi. Está disponible públicamente en la UCI Machine Learning Repository y ha sido recopilado en un entorno real de un edificio universitario.\n",
    "\n",
    "Cada muestra corresponde a una observación realizada por un dispositivo móvil, donde se registran las intensidades de señal (RSSI) de más de 500 puntos de acceso WiFi disponibles en el entorno. Además, cada fila contiene información contextual como la ubicación real del dispositivo (coordenadas X e Y), el piso, el edificio, el identificador del usuario, y la marca temporal.\n",
    "\n",
    "El objetivo en esta tarea es predecir el **piso** (`FLOOR`) en el que se encontraba el dispositivo en el momento de la medición, considerando únicamente las características numéricas provenientes de las señales WiFi.\n",
    "\n",
    "### Estructura del dataset\n",
    "\n",
    "- **Número de muestras**: ~20,000\n",
    "- **Número de características**: 520\n",
    "  - 520 columnas con valores de intensidad de señal WiFi (`WAP001` a `WAP520`)\n",
    "- **Variable objetivo**: `FLOOR` (variable categórica con múltiples clases, usualmente entre 0 y 4)\n",
    "\n",
    "### Columnas relevantes\n",
    "\n",
    "- `WAP001`, `WAP002`, ..., `WAP520`: niveles de señal recibida desde cada punto de acceso WiFi (valores entre -104 y 0, o 100 si no se detectó).\n",
    "- `FLOOR`: clase objetivo a predecir (nivel del edificio).\n",
    "- (Otras columnas como `BUILDINGID`, `SPACEID`, `USERID`, `TIMESTAMP`, etc., pueden ser ignoradas o utilizadas en análisis complementarios).\n",
    "\n",
    "### Contexto del problema\n",
    "\n",
    "La localización en interiores es un problema complejo en el que tecnologías como el GPS no funcionan adecuadamente. Los sistemas basados en WiFi han demostrado ser una alternativa efectiva para estimar la ubicación de usuarios en edificios. Poder predecir automáticamente el piso en el que se encuentra una persona puede mejorar aplicaciones de navegación en interiores, accesibilidad, gestión de emergencias y servicios personalizados. Este tipo de problemas es típicamente abordado mediante algoritmos de clasificación multiclase.\n",
    "\n",
    "\n",
    "### Estrategia de evaluación\n",
    "\n",
    "En este análisis seguiremos una metodología rigurosa para garantizar la validez de los resultados:\n",
    "\n",
    "1. **Dataset de entrenamiento**: Se utilizará exclusivamente para el desarrollo, entrenamiento y optimización de hiperparámetros de todos los modelos. Este conjunto será dividido internamente en subconjuntos de entrenamiento y validación (80/20) para la selección de hiperparámetros mediante validación cruzada.\n",
    "\n",
    "2. **Dataset de prueba**: Se reservará únicamente para la **evaluación final** de los modelos ya optimizados. Este conjunto **no debe ser utilizado** durante el proceso de selección de hiperparámetros, ajuste de modelos o toma de decisiones sobre la arquitectura, ya que esto introduciría sesgo y comprometería la capacidad de generalización estimada.\n",
    "\n",
    "3. **Validación cruzada**: Para la optimización de hiperparámetros se empleará validación cruzada 5-fold sobre el conjunto de entrenamiento, lo que permitirá una estimación robusta del rendimiento sin contaminar los datos de prueba.\n",
    "\n",
    "Esta separación estricta entre datos de desarrollo y evaluación final es fundamental para obtener una estimación realista del rendimiento que los modelos tendrían en un escenario de producción con datos completamente nuevos.\n",
    "\n",
    "---\n"
   ]
  },
  {
   "cell_type": "markdown",
   "id": "0b4b8e4d",
   "metadata": {},
   "source": [
    "## Paso 1: Cargar y explorar el dataset\n",
    "\n",
    "**Instrucciones:**\n",
    "- Descarga el dataset **UJIIndoorLoc** desde la UCI Machine Learning Repository o utiliza la versión proporcionada en el repositorio del curso (por ejemplo: `datasets\\UJIIndoorLoc\\trainingData.csv`).\n",
    "- Carga el dataset utilizando `pandas`.\n",
    "- Muestra las primeras filas del dataset utilizando `df.head()`.\n",
    "- Imprime el número total de muestras (filas) y características (columnas).\n",
    "- Verifica cuántas clases distintas hay en la variable objetivo `FLOOR` y cuántas muestras tiene cada clase (`df['FLOOR'].value_counts()`).\n"
   ]
  },
  {
   "cell_type": "code",
   "execution_count": null,
   "id": "2d27f8d5",
   "metadata": {},
   "outputs": [],
   "source": [
    "# tu código aquí"
   ]
  },
  {
   "cell_type": "markdown",
   "id": "2e2f0bed",
   "metadata": {},
   "source": [
    "---\n",
    "\n",
    "## Paso 2: Preparar los datos\n",
    "\n",
    "**Instrucciones:**\n",
    "\n",
    "- Elimina las columnas que no son relevantes para la tarea de clasificación del piso:\n",
    "  - `LONGITUDE`, `LATITUDE`, `SPACEID`, `RELATIVEPOSITION`, `USERID`, `PHONEID`, `TIMESTAMP`\n",
    "- Conserva únicamente:\n",
    "  - Las columnas `WAP001` a `WAP520` como características (RSSI de puntos de acceso WiFi).\n",
    "  - La columna `FLOOR` como variable objetivo.\n",
    "- Verifica si existen valores atípicos o valores inválidos en las señales WiFi (por ejemplo: valores constantes como 100 o -110 que suelen indicar ausencia de señal).\n",
    "- Separa el conjunto de datos en:\n",
    "  - `X`: matriz de características (todas las columnas `WAP`)\n",
    "  - `y`: vector objetivo (`FLOOR`)\n"
   ]
  },
  {
   "cell_type": "code",
   "execution_count": null,
   "id": "9f0eec3c",
   "metadata": {},
   "outputs": [],
   "source": [
    "# tu código aquí"
   ]
  },
  {
   "cell_type": "markdown",
   "id": "3e8a6c39",
   "metadata": {},
   "source": [
    "--- \n",
    "\n",
    "## Paso 3: Preprocesamiento de las señales WiFi\n",
    "\n",
    "**Contexto:**\n",
    "\n",
    "Las columnas `WAP001` a `WAP520` representan la intensidad de la señal (RSSI) recibida desde distintos puntos de acceso WiFi. Los valores típicos de RSSI están en una escala negativa, donde:\n",
    "\n",
    "- Valores cercanos a **0 dBm** indican señal fuerte.\n",
    "- Valores cercanos a **-100 dBm** indican señal débil o casi ausente.\n",
    "- Un valor de **100** en este dataset representa una señal **no detectada**, es decir, el punto de acceso no fue visto por el dispositivo en ese instante.\n",
    "\n",
    "**Instrucciones:**\n",
    "\n",
    "- Para facilitar el procesamiento y tratar la ausencia de señal de forma coherente, se recomienda mapear todos los valores **100** a **-100**, que semánticamente representa *ausencia de señal detectable*.\n",
    "- Esto unifica el rango de valores y evita que 100 (un valor artificial) afecte negativamente la escala de los algoritmos.\n",
    "\n",
    "**Pasos sugeridos:**\n",
    "\n",
    "- Reemplaza todos los valores `100` por `-100` en las columnas `WAP001` a `WAP520`:\n",
    "  ```python\n",
    "  X[X == 100] = -100\n"
   ]
  },
  {
   "cell_type": "code",
   "execution_count": null,
   "id": "61fa6fe3",
   "metadata": {},
   "outputs": [],
   "source": [
    "# tu código aquí"
   ]
  },
  {
   "cell_type": "markdown",
   "id": "80383336",
   "metadata": {},
   "source": [
    "---\n",
    "\n",
    "## Paso 4: Preparación del dataset\n",
    "\n",
    "**Objetivo:**\n",
    "\n",
    "Diseñar una función que cargue el dataset **UJIIndoorLoc**, realice limpieza básica si es necesario, normalice las variables predictoras, y divida los datos en tres subconjuntos de forma estratificada para su uso en redes neuronales.\n",
    "\n",
    "**Esquema de partición:**\n",
    "\n",
    "1. **20% del dataset se reserva como conjunto de testeo final.**\n",
    "2. **El 80% restante se subdivide en:**\n",
    "   - **80% para entrenamiento** → equivale al 64% del total.\n",
    "   - **20% para validación** → equivale al 16% del total.\n",
    "\n",
    "  En este caso, ya existe un conjunto de testeo definido por separado. Por lo tanto, la función solo debe dividir el dataset de entrenamiento original en dos subconjuntos estratificados:\n",
    "\n",
    "  - **80% para entrenamiento**\n",
    "  - **20% para validación**\n",
    "\n",
    "**Requisitos de la función:**\n",
    "\n",
    "- La función debe realizar las siguientes tareas:\n",
    "  1. Cargar el archivo `.csv` del dataset.\n",
    "  2. Seleccionar las columnas de entrada (features) y la variable objetivo (`FLOOR`).\n",
    "  3. Aplicar normalización a las variables predictoras utilizando `MinMaxScaler` para que todos los valores queden entre 0 y 1.\n",
    "  4. Realizar las divisiones del conjunto de datos en el orden indicado, asegurando estratificación según la variable objetivo.\n",
    "  \n",
    "- La función debe recibir como parámetros:\n",
    "  - La ruta al archivo `.csv` del dataset.\n",
    "  - El nombre de la columna objetivo (por ejemplo, `FLOOR`).\n",
    "  - Un parámetro `random_state` para asegurar reproducibilidad de las divisiones.\n",
    "\n",
    "- La función debe retornar:\n",
    "  - `X_train`, `X_val`, `X_test`: subconjuntos de características normalizadas.\n",
    "  - `y_train`, `y_val`, `y_test`: subconjuntos de etiquetas, codificadas si es necesario para clasificación multiclase.\n",
    "\n",
    "**Nota:** Esta función es fundamental para garantizar un flujo de entrenamiento robusto y reproducible en redes neuronales.\n"
   ]
  },
  {
   "cell_type": "code",
   "execution_count": null,
   "id": "f87cd1be",
   "metadata": {},
   "outputs": [],
   "source": [
    "# Crear la función de carga de datos"
   ]
  },
  {
   "cell_type": "markdown",
   "id": "dc0b0b81",
   "metadata": {},
   "source": [
    "---\n",
    "## Paso 5: Entrenamiento de redes neuronales artificiales (ANN)\n",
    "\n",
    "**Objetivo:**\n",
    "\n",
    "Entrenar y comparar el rendimiento de diferentes arquitecturas de redes neuronales totalmente conectadas (**Fully Connected ANN**) utilizando **PyTorch** para predecir el piso (`FLOOR`) en el dataset UJIIndoorLoc. El objetivo es observar el impacto de la profundidad y la expansión/compresión de capas sobre el rendimiento del modelo.\n",
    "\n",
    "**Entorno y configuración:**\n",
    "\n",
    "- **Framework:** PyTorch\n",
    "- **Función de pérdida:** `nn.CrossEntropyLoss()`  \n",
    "  > Esta función es equivalente a `sparse_categorical_crossentropy`, por lo que **no es necesario one-hot encoding** en las etiquetas.\n",
    "- **Optimizador:** `torch.optim.Adam`\n",
    "- **Activación:** `ReLU` en todas las capas ocultas\n",
    "- **Salida:** `Softmax` (implícito en `CrossEntropyLoss`)\n",
    "- **Épocas:** 20\n",
    "- **Batch size: 32**\n",
    "- **Sin Dropout ni BatchNormalization**\n",
    "\n",
    "\n",
    "### Arquitecturas a evaluar\n",
    "\n",
    "1. **Arquitectura 1: Compacta**\n",
    "   ```text\n",
    "   Input (520)\n",
    "   → Linear(128) + ReLU\n",
    "   → Linear(5)\n",
    "   ```\n",
    "\n",
    "2. **Arquitectura 2: Dos capas ocultas**\n",
    "   ```text\n",
    "   Input (520)\n",
    "   → Linear(256) + ReLU\n",
    "   → Linear(128) + ReLU\n",
    "   → Linear(5)\n",
    "   ```\n",
    "\n",
    "3. **Arquitectura 3: Tres capas ocultas**\n",
    "   ```text\n",
    "   Input (520)\n",
    "   → Linear(256) + ReLU\n",
    "   → Linear(128) + ReLU\n",
    "   → Linear(64) + ReLU\n",
    "   → Linear(5)\n",
    "   ```\n",
    "\n",
    "4. **Arquitectura 4: Pirámide profunda**\n",
    "   ```text\n",
    "   Input (520)\n",
    "   → Linear(512) + ReLU\n",
    "   → Linear(256) + ReLU\n",
    "   → Linear(128) + ReLU\n",
    "   → Linear(64)  + ReLU\n",
    "   → Linear(5)\n",
    "   ```\n",
    "\n",
    "5. **Arquitectura 5: Expansiva y luego compresiva**\n",
    "   ```text\n",
    "   Input (520)\n",
    "   → Linear(1024) + ReLU\n",
    "   → Linear(512)  + ReLU\n",
    "   → Linear(256)  + ReLU\n",
    "   → Linear(128)  + ReLU\n",
    "   → Linear(64)   + ReLU\n",
    "   → Linear(5)\n",
    "   ```\n",
    "\n",
    "\n",
    "### Instrucciones\n",
    "\n",
    "- Implementa cada arquitectura como una subclase de `nn.Module` en PyTorch.\n",
    "- Entrena durante **20 épocas**, utilizando el conjunto de entrenamiento (`X_train`, `y_train`) y validación (`X_val`, `y_val`).\n",
    "- Registra la **pérdida de entrenamiento y validación** por época en un gráfico.\n",
    "- Grafica la evolución de la pérdida para analizar tendencias de aprendizaje, sobreajuste o subajuste.\n",
    "- Evalúa el modelo final con el conjunto de test (`X_test`, `y_test`) y reporta:\n",
    "  - **Accuracy**\n",
    "  - **Precision**\n",
    "  - **Recall**\n",
    "  - **F1-score**"
   ]
  },
  {
   "cell_type": "code",
   "execution_count": null,
   "id": "cfe92e60",
   "metadata": {},
   "outputs": [],
   "source": [
    "# Aqruitectura 1"
   ]
  },
  {
   "cell_type": "code",
   "execution_count": null,
   "id": "25cb58e3",
   "metadata": {},
   "outputs": [],
   "source": [
    "# Aqruitectura 2"
   ]
  },
  {
   "cell_type": "code",
   "execution_count": null,
   "id": "cfcabba8",
   "metadata": {},
   "outputs": [],
   "source": [
    "# Aqruitectura 3"
   ]
  },
  {
   "cell_type": "code",
   "execution_count": null,
   "id": "becadfd9",
   "metadata": {},
   "outputs": [],
   "source": [
    "# Aqruitectura 4"
   ]
  },
  {
   "cell_type": "code",
   "execution_count": null,
   "id": "bcb52507",
   "metadata": {},
   "outputs": [],
   "source": [
    "# Aqruitectura 5"
   ]
  },
  {
   "cell_type": "markdown",
   "id": "64de7a7c",
   "metadata": {},
   "source": [
    "---\n",
    "\n",
    "## Paso 6: Tabla resumen de resultados por arquitectura\n",
    "\n",
    "**Instrucciones:**\n",
    "\n",
    "Después de entrenar y evaluar las cinco arquitecturas de redes neuronales, debes construir una **tabla resumen en formato Markdown** que incluya:\n",
    "\n",
    "- El nombre o número de cada arquitectura.\n",
    "- Las métricas obtenidas sobre el conjunto de **testeo**:\n",
    "  - **Accuracy**\n",
    "  - **Precision**\n",
    "  - **Recall**\n",
    "  - **F1-score**\n",
    "- El **tiempo total de entrenamiento** de cada modelo (en segundos).\n",
    "\n",
    "### Formato de la tabla:\n",
    "\n",
    "| Arquitectura           | Accuracy | Precision | Recall | F1-score | Tiempo de entrenamiento (s) |\n",
    "|------------------------|----------|-----------|--------|----------|------------------------------|\n",
    "| Arquitectura 1         | 0.XXX    | 0.XXX     | 0.XXX  | 0.XXX    | XXX                          |\n",
    "| Arquitectura 2         | 0.XXX    | 0.XXX     | 0.XXX  | 0.XXX    | XXX                          |\n",
    "| Arquitectura 3         | 0.XXX    | 0.XXX     | 0.XXX  | 0.XXX    | XXX                          |\n",
    "| Arquitectura 4         | 0.XXX    | 0.XXX     | 0.XXX  | 0.XXX    | XXX                          |\n",
    "| Arquitectura 5         | 0.XXX    | 0.XXX     | 0.XXX  | 0.XXX    | XXX                          |\n",
    "\n",
    "\n",
    "**Nota:** Puedes medir el tiempo con `time.time()` al inicio y final del entrenamiento de cada modelo.\n",
    "\n",
    "---\n"
   ]
  },
  {
   "cell_type": "code",
   "execution_count": null,
   "id": "d659d1ae",
   "metadata": {},
   "outputs": [],
   "source": [
    "# Tabla de resultados aquí"
   ]
  },
  {
   "cell_type": "markdown",
   "id": "a2519692",
   "metadata": {},
   "source": [
    "---\n",
    "\n",
    "## Paso 7: Evaluar el impacto del número de épocas en el mejor modelo\n",
    "\n",
    "**Objetivo:**\n",
    "\n",
    "Tomar la arquitectura que obtuvo el mejor desempeño en la evaluación anterior (Paso 5) y analizar cómo varía su rendimiento cuando se entrena con diferentes cantidades de épocas.\n",
    "\n",
    "**Instrucciones:**\n",
    "\n",
    "1. Selecciona la arquitectura con mejor desempeño global (según F1-score).\n",
    "2. Entrena esta arquitectura usando los mismos conjuntos de datos (`X_train`, `y_train`, `X_val`, `y_val`) pero variando el número de **épocas** de la siguiente forma:\n",
    "\n",
    "   - 10 épocas\n",
    "   - 20 épocas\n",
    "   - 30 épocas\n",
    "   - 40 épocas\n",
    "   - 50 épocas\n",
    "\n",
    "3. Para cada configuración:\n",
    "   - Registra el **tiempo de entrenamiento**.\n",
    "   - Evalúa el modelo en el conjunto de **testeo** (`X_test`, `y_test`).\n",
    "   - Reporta las métricas:\n",
    "     - Accuracy\n",
    "     - Precision\n",
    "     - Recall\n",
    "     - F1-score\n",
    "\n",
    "4. Grafica:\n",
    "   - La evolución de la **función de pérdida** (entrenamiento y validación) por época.\n",
    "---\n"
   ]
  },
  {
   "cell_type": "code",
   "execution_count": null,
   "id": "10347fe7",
   "metadata": {},
   "outputs": [],
   "source": [
    "# tu código aquí (evaluacion #1)"
   ]
  },
  {
   "cell_type": "code",
   "execution_count": null,
   "id": "799f5a18",
   "metadata": {},
   "outputs": [],
   "source": [
    "# tu código aquí  (evaluacion #2)"
   ]
  },
  {
   "cell_type": "code",
   "execution_count": null,
   "id": "629452e5",
   "metadata": {},
   "outputs": [],
   "source": [
    "# tu código aquí (evaluacion #3)"
   ]
  },
  {
   "cell_type": "code",
   "execution_count": null,
   "id": "80e5cae5",
   "metadata": {},
   "outputs": [],
   "source": [
    "# tu código aquí (evaluacion #4)"
   ]
  },
  {
   "cell_type": "code",
   "execution_count": null,
   "id": "0cb5edd2",
   "metadata": {},
   "outputs": [],
   "source": [
    "# tu código aquí (evaluacion #5)"
   ]
  },
  {
   "cell_type": "markdown",
   "id": "efcf813b",
   "metadata": {},
   "source": [
    "\n",
    "---\n",
    "\n",
    "## Paso 8: Tabla resumen de resultados por número de épocas\n",
    "\n",
    "**Objetivo:**\n",
    "\n",
    "Construir una **tabla resumen** que muestre el rendimiento del mejor modelo (seleccionado en el Paso 7) cuando se entrena con diferentes cantidades de épocas.\n",
    "\n",
    "**Instrucciones:**\n",
    "\n",
    "- Presenta una tabla en formato **Markdown** con los resultados de testeo para cada configuración del número de épocas.\n",
    "- La tabla debe incluir las siguientes columnas:\n",
    "  - Número de épocas\n",
    "  - Accuracy\n",
    "  - Precision\n",
    "  - Recall\n",
    "  - F1-score\n",
    "  - Tiempo de entrenamiento (en segundos)\n",
    "\n",
    "### Formato de la tabla:\n",
    "\n",
    "| Épocas | Accuracy | Precision | Recall | F1-score | Tiempo de entrenamiento (s) |\n",
    "|--------|----------|-----------|--------|----------|------------------------------|\n",
    "| 10     | 0.XXX    | 0.XXX     | 0.XXX  | 0.XXX    | XXX                          |\n",
    "| 20     | 0.XXX    | 0.XXX     | 0.XXX  | 0.XXX    | XXX                          |\n",
    "| 30     | 0.XXX    | 0.XXX     | 0.XXX  | 0.XXX    | XXX                          |\n",
    "| 40     | 0.XXX    | 0.XXX     | 0.XXX  | 0.XXX    | XXX                          |\n",
    "| 50     | 0.XXX    | 0.XXX     | 0.XXX  | 0.XXX    | XXX                          |\n",
    "\n",
    "> Reemplaza los valores con los resultados reales obtenidos. Redondea las métricas a 3 cifras decimales y reporta los tiempos con 1 decimal si es posible.\n"
   ]
  },
  {
   "cell_type": "code",
   "execution_count": null,
   "id": "fa260d24",
   "metadata": {},
   "outputs": [],
   "source": [
    "# Tu tabla de resultados aquí"
   ]
  },
  {
   "cell_type": "markdown",
   "id": "021695f3",
   "metadata": {},
   "source": [
    "---\n",
    "\n",
    "## Preguntas de análisis\n",
    "\n",
    "A continuación, responde de manera clara y justificada las siguientes preguntas con base en los resultados obtenidos en los pasos anteriores:\n",
    "\n",
    "1. **¿Cuál considera que fue la mejor arquitectura evaluada? ¿Por qué?**\n",
    "2. **¿Cuál fue la arquitectura con peor desempeño? ¿A qué cree que se debió su bajo rendimiento?**\n",
    "3. **¿Cómo influye el número de capas ocultas en el comportamiento de la red?**\n",
    "4. **¿Cuál fue la mejor cantidad de épocas para entrenar el mejor modelo? Justifique su elección.**\n",
    "5. **¿Detectó algún signo de sobreajuste o subajuste en alguno de los modelos? ¿Cómo lo identificó?**\n",
    "6. **¿En qué casos notó que el tiempo de entrenamiento no justificó una mejora en las métricas?**\n",
    "7. **¿La arquitectura más profunda fue también la más precisa? ¿Qué conclusiones saca de esto?**\n",
    "8. **¿Qué métrica considera más importante en este contexto (accuracy, precision, recall, F1-score) y por qué?**\n"
   ]
  },
  {
   "cell_type": "code",
   "execution_count": null,
   "id": "7133b2e6",
   "metadata": {},
   "outputs": [],
   "source": [
    "# respuestas aquí"
   ]
  },
  {
   "cell_type": "markdown",
   "id": "708acad6",
   "metadata": {},
   "source": [
    "---\n",
    "\n",
    "## Rúbrica de evaluación del proyecto\n",
    "\n",
    "El proyecto se compone de nueve pasos estructurados. A continuación se detallan los puntos asignados a cada sección, así como el puntaje total:\n",
    "\n",
    "| Sección                                                                | Puntos |\n",
    "|----------------------------------------------------------------------|--------|\n",
    "| **Paso 1:** Cargar y explorar el dataset                             | 10     |\n",
    "| **Paso 2:** Preparar los datos                                       | 10     |\n",
    "| **Paso 3:** Preprocesamiento de las señales WiFi                     | 10     |\n",
    "| **Paso 4:** Preparación del dataset (división y normalización)       | 10     |\n",
    "| **Paso 5:** Entrenamiento de redes neuronales artificiales (ANN)     | 50     |\n",
    "| **Paso 6:** Tabla resumen de resultados por arquitectura             | 10     |\n",
    "| **Paso 7:** Evaluar el impacto del número de épocas                  | 50     |\n",
    "| **Paso 8:** Tabla resumen de resultados por número de épocas         | 10     |\n",
    "| **Preguntas de análisis** (8 preguntas × 5 puntos c/u)      | 40     |\n",
    "| **Total**                                                            | **200** |\n",
    "\n",
    "---\n",
    "\n",
    "**Nota:** Para obtener la máxima puntuación se requiere justificar adecuadamente cada decisión, mantener buena organización en el notebook, y presentar resultados bien interpretados y graficados.\n",
    "\n",
    "---\n",
    "\n"
   ]
  }
 ],
 "metadata": {
  "kernelspec": {
   "display_name": "base",
   "language": "python",
   "name": "python3"
  },
  "language_info": {
   "name": "python",
   "version": "3.12.4"
  }
 },
 "nbformat": 4,
 "nbformat_minor": 5
}
